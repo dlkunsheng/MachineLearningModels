!pip uninstall protobuf paddlepaddle -y
!pip install protobuf==3.20.2
!pip install paddlepaddle
!pip install tensorflow


import numpy as np
import tensorflow as tf
from sklearn.model_selection import train_test_split
from sklearn.datasets import make_classification
from sklearn.preprocessing import StandardScaler
from sklearn.metrics import accuracy_score
from tensorflow.keras import Input


# 1. 生成模拟数据
X, y = make_classification(
    n_samples=1000,  # 样本数量
    n_features=20,   # 特征数量
    n_classes=2,     # 类别数量
    n_informative=15, # 有效特征数量
    random_state=42
)


# 数据标准化
scaler = StandardScaler()
X = scaler.fit_transform(X)


# 划分训练集和测试集
X_train, X_test, y_train, y_test = train_test_split(X, y, test_size=0.2, random_state=42)


# 2. 构建反向传播神经网络 (BPNN)
# 定义模型
model = tf.keras.Sequential([
    Input(shape=(X.shape[1],)),  # 显式定义输入形状
    tf.keras.layers.Dense(64, activation='relu'),  # 隐藏层1
    tf.keras.layers.Dense(32, activation='relu'),  # 隐藏层2
    tf.keras.layers.Dense(1, activation='sigmoid') # 输出层
])


# 编译模型
model.compile(optimizer='adam',  # 使用Adam优化器
              loss='binary_crossentropy',  # 二分类交叉熵损失函数
              metrics=['accuracy'])  # 评估指标


# 3. 训练模型
history = model.fit(X_train, y_train, epochs=50, batch_size=32, validation_split=0.2, verbose=1)


# 4. 测试模型
y_pred = (model.predict(X_test) > 0.5).astype("int32")
accuracy = accuracy_score(y_test, y_pred)
print(f"Test Accuracy: {accuracy:.2f}")


# 5. 输出训练结果
import matplotlib.pyplot as plt


# 绘制训练和验证的损失曲线
plt.plot(history.history['loss'], label='Train Loss')
plt.plot(history.history['val_loss'], label='Validation Loss')
plt.title('Loss Curve')
plt.xlabel('Epochs')
plt.ylabel('Loss')
plt.legend()
plt.show()



