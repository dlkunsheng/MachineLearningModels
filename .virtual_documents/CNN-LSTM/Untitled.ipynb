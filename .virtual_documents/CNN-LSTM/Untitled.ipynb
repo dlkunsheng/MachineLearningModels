import numpy as np
from tensorflow.keras import Input
from tensorflow.keras.models import Sequential
from tensorflow.keras.layers import Conv1D, MaxPooling1D, Flatten, LSTM, Dense, TimeDistributed
from sklearn.model_selection import train_test_split
from sklearn.metrics import accuracy_score


# 1. 数据准备
# 模拟时间序列数据：每个样本是 10 个时间步，每个时间步有 5 个特征
n_samples = 1000
time_steps = 10
n_features = 5
n_classes = 2


# 随机生成数据
X = np.random.rand(n_samples, time_steps, n_features)  # 输入特征
y = np.random.randint(0, n_classes, size=(n_samples,))  # 二分类标签


# 划分训练集和测试集
X_train, X_test, y_train, y_test = train_test_split(X, y, test_size=0.2, random_state=42)


# 2. 构建 CNN-LSTM 模型
model = Sequential([
    Input(shape=(time_steps, n_features)),  # 输入层
    Conv1D(filters=32, kernel_size=3, activation='relu'),  # 卷积层
    MaxPooling1D(pool_size=2),  # 最大池化层
    LSTM(50, activation='tanh'),  # LSTM 层
    Dense(1, activation='sigmoid')  # 输出层
])


# 3. 编译模型
model.compile(optimizer='adam', loss='binary_crossentropy', metrics=['accuracy'])


# 4. 训练模型
history = model.fit(X_train, y_train, epochs=20, batch_size=32, validation_split=0.2, verbose=1)


# 5. 测试模型
y_pred = (model.predict(X_test) > 0.5).astype("int32")
accuracy = accuracy_score(y_test, y_pred)
print(f"Test Accuracy: {accuracy:.2f}")


# 6. 可视化训练过程
import matplotlib.pyplot as plt
plt.plot(history.history['loss'], label='Train Loss')
plt.plot(history.history['val_loss'], label='Validation Loss')
plt.title('Loss Curve')
plt.xlabel('Epochs')
plt.ylabel('Loss')
plt.legend()
plt.show()



