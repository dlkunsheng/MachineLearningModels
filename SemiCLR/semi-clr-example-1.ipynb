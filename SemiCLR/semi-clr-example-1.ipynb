{
 "cells": [
  {
   "cell_type": "code",
   "execution_count": 21,
   "id": "94fd0ff2-2c7b-4234-bc21-09ef0e68ba5d",
   "metadata": {},
   "outputs": [],
   "source": [
    "import numpy as np\n",
    "import tensorflow as tf\n",
    "from tensorflow.keras.layers import Dense, GlobalAveragePooling2D, Input, Flatten\n",
    "from tensorflow.keras.models import Model\n",
    "from sklearn.model_selection import train_test_split\n",
    "from sklearn.metrics import accuracy_score"
   ]
  },
  {
   "cell_type": "code",
   "execution_count": 22,
   "id": "f933027e-4613-4dce-8231-daf76077d4f9",
   "metadata": {},
   "outputs": [],
   "source": [
    "# 模拟数据 (CIFAR-10 数据集也可以用于此任务)\n",
    "(x_train, y_train), (x_test, y_test) = tf.keras.datasets.cifar10.load_data()"
   ]
  },
  {
   "cell_type": "code",
   "execution_count": 23,
   "id": "b9f29f2b-b559-47c1-a2e0-32f54a74fc2d",
   "metadata": {},
   "outputs": [],
   "source": [
    "# 只选择两个类别用于二分类（如类别 0 和类别 1）\n",
    "selected_classes = [0, 1]\n",
    "mask_train = np.isin(y_train, selected_classes).flatten()\n",
    "mask_test = np.isin(y_test, selected_classes).flatten()"
   ]
  },
  {
   "cell_type": "code",
   "execution_count": 24,
   "id": "a207c920-d8ee-47f1-97d1-c3152e793d49",
   "metadata": {},
   "outputs": [],
   "source": [
    "x_train, y_train = x_train[mask_train], y_train[mask_train]\n",
    "x_test, y_test = x_test[mask_test], y_test[mask_test]"
   ]
  },
  {
   "cell_type": "code",
   "execution_count": 25,
   "id": "423a8062-d9e4-4276-8cb0-ec425e7f1036",
   "metadata": {},
   "outputs": [],
   "source": [
    "# 正则化像素值\n",
    "x_train = x_train.astype(\"float32\") / 255.0\n",
    "x_test = x_test.astype(\"float32\") / 255.0"
   ]
  },
  {
   "cell_type": "code",
   "execution_count": 26,
   "id": "7bb46a6c-7378-42ae-90cf-cd1a906457f8",
   "metadata": {},
   "outputs": [],
   "source": [
    "# 转换标签为二分类\n",
    "y_train = (y_train == selected_classes[1]).astype(\"int\")\n",
    "y_test = (y_test == selected_classes[1]).astype(\"int\")"
   ]
  },
  {
   "cell_type": "code",
   "execution_count": 27,
   "id": "14fbe3bf-0cee-443c-9bf2-a21d6f55a807",
   "metadata": {},
   "outputs": [],
   "source": [
    "# 数据增强\n",
    "def data_augmentation(image):\n",
    "    image = tf.image.random_flip_left_right(image)\n",
    "    #image = tf.image.random_crop(image, size=[28, 28, 3])\n",
    "    image = tf.image.random_crop(image, size=[32, 32, 3])    \n",
    "    image = tf.image.random_brightness(image, max_delta=0.1)\n",
    "    return image\n",
    "\n",
    "def generate_augmentations(x):\n",
    "    aug1 = tf.map_fn(data_augmentation, x)\n",
    "    aug2 = tf.map_fn(data_augmentation, x)\n",
    "    return aug1, aug2"
   ]
  },
  {
   "cell_type": "code",
   "execution_count": 28,
   "id": "4b5102aa-e0cb-4d20-897d-fd52df827351",
   "metadata": {},
   "outputs": [],
   "source": [
    "# 对比学习模型 定义编码器网络和摄影头\n",
    "def create_encoder():\n",
    "    #base_model = tf.keras.applications.ResNet50(include_top=False, weights=None, input_shape=(28, 28, 3))\n",
    "    base_model = tf.keras.applications.ResNet50(include_top=False, weights=None, input_shape=(32, 32, 3))\n",
    "    x = GlobalAveragePooling2D()(base_model.output)\n",
    "    encoder = Model(base_model.input, x, name=\"encoder\")\n",
    "    return encoder\n",
    "\n",
    "def create_projection_head(encoder):\n",
    "    #inputs = Input(shape=(28, 28, 3))\n",
    "    inputs = Input(shape=(32, 32, 3))\n",
    "    features = encoder(inputs)\n",
    "    outputs = Dense(128, activation='relu')(features)\n",
    "    outputs = Dense(128, activation=None)(outputs)  # 不需要激活函数\n",
    "    model = Model(inputs, outputs, name=\"projection_head\")\n",
    "    return model"
   ]
  },
  {
   "cell_type": "code",
   "execution_count": 29,
   "id": "47d68dc3-4a9b-4ffc-88b3-7a7bf9f17e4b",
   "metadata": {},
   "outputs": [],
   "source": [
    "# 定义对比损失函数 实现对比学习的损失 (NT-Xent)\n",
    "def contrastive_loss(projections_1, projections_2, temperature=0.5):\n",
    "    # 归一化\n",
    "    z1 = tf.math.l2_normalize(projections_1, axis=1)\n",
    "    z2 = tf.math.l2_normalize(projections_2, axis=1)\n",
    "\n",
    "    # 相似性计算\n",
    "    similarities = tf.matmul(z1, z2, transpose_b=True)\n",
    "\n",
    "    # 温度缩放\n",
    "    logits = similarities / temperature\n",
    "\n",
    "    # 构造标签\n",
    "    batch_size = tf.shape(logits)[0]\n",
    "    labels = tf.range(batch_size)\n",
    "\n",
    "    # 计算交叉熵损失\n",
    "    loss = tf.nn.sparse_softmax_cross_entropy_with_logits(labels=labels, logits=logits)\n",
    "    return tf.reduce_mean(loss)"
   ]
  },
  {
   "cell_type": "code",
   "execution_count": 30,
   "id": "22a65aea-0e30-48bd-964e-229f8f234fb4",
   "metadata": {},
   "outputs": [],
   "source": [
    "# 训练对比学习模型\n",
    "# 编码器和投影头\n",
    "encoder = create_encoder()\n",
    "projection_head = create_projection_head(encoder)\n",
    "\n",
    "optimizer = tf.keras.optimizers.Adam()"
   ]
  },
  {
   "cell_type": "code",
   "execution_count": 31,
   "id": "0ed22e26-83f7-41c2-a24a-dd2dc5b28325",
   "metadata": {},
   "outputs": [],
   "source": [
    "@tf.function\n",
    "def train_step(x_batch):\n",
    "    with tf.GradientTape() as tape:\n",
    "        # 生成增强数据\n",
    "        aug1, aug2 = generate_augmentations(x_batch)\n",
    "\n",
    "        # 获取投影向量\n",
    "        projections_1 = projection_head(aug1, training=True)\n",
    "        projections_2 = projection_head(aug2, training=True)\n",
    "\n",
    "        # 计算对比损失\n",
    "        loss = contrastive_loss(projections_1, projections_2)\n",
    "\n",
    "    gradients = tape.gradient(loss, projection_head.trainable_variables)\n",
    "    optimizer.apply_gradients(zip(gradients, projection_head.trainable_variables))\n",
    "    return loss"
   ]
  },
  {
   "cell_type": "code",
   "execution_count": 32,
   "id": "95f80955-87ce-4167-bad6-1e1b752e8f5d",
   "metadata": {},
   "outputs": [
    {
     "name": "stdout",
     "output_type": "stream",
     "text": [
      "Epoch 1, Loss: 1.2228\n",
      "Epoch 2, Loss: 1.1143\n",
      "Epoch 3, Loss: 1.0822\n",
      "Epoch 4, Loss: 1.0802\n",
      "Epoch 5, Loss: 1.0527\n",
      "Epoch 6, Loss: 1.0800\n",
      "Epoch 7, Loss: 1.0670\n",
      "Epoch 8, Loss: 1.0809\n",
      "Epoch 9, Loss: 1.0542\n",
      "Epoch 10, Loss: 1.0500\n"
     ]
    }
   ],
   "source": [
    "# 模拟训练\n",
    "batch_size = 32\n",
    "epochs = 10\n",
    "\n",
    "for epoch in range(epochs):\n",
    "    for i in range(0, len(x_train), batch_size):\n",
    "        x_batch = x_train[i:i+batch_size]\n",
    "        loss = train_step(x_batch)\n",
    "    print(f\"Epoch {epoch + 1}, Loss: {loss.numpy():.4f}\")"
   ]
  },
  {
   "cell_type": "code",
   "execution_count": 33,
   "id": "0ae6e427-2323-4c8a-9819-89d7fcf670c0",
   "metadata": {},
   "outputs": [
    {
     "ename": "ValueError",
     "evalue": "Input 0 of layer \"encoder\" is incompatible with the layer: expected shape=(None, 32, 32, 3), found shape=(None, 28, 28, 3)",
     "output_type": "error",
     "traceback": [
      "\u001b[1;31m---------------------------------------------------------------------------\u001b[0m",
      "\u001b[1;31mValueError\u001b[0m                                Traceback (most recent call last)",
      "Cell \u001b[1;32mIn[33], line 8\u001b[0m\n\u001b[0;32m      6\u001b[0m \u001b[38;5;66;03m# 构建线性分类器\u001b[39;00m\n\u001b[0;32m      7\u001b[0m inputs \u001b[38;5;241m=\u001b[39m Input(shape\u001b[38;5;241m=\u001b[39m(\u001b[38;5;241m28\u001b[39m, \u001b[38;5;241m28\u001b[39m, \u001b[38;5;241m3\u001b[39m))\n\u001b[1;32m----> 8\u001b[0m features \u001b[38;5;241m=\u001b[39m encoder(inputs)\n\u001b[0;32m      9\u001b[0m outputs \u001b[38;5;241m=\u001b[39m Dense(\u001b[38;5;241m1\u001b[39m, activation\u001b[38;5;241m=\u001b[39m\u001b[38;5;124m\"\u001b[39m\u001b[38;5;124msigmoid\u001b[39m\u001b[38;5;124m\"\u001b[39m)(features)\n\u001b[0;32m     10\u001b[0m classifier \u001b[38;5;241m=\u001b[39m Model(inputs, outputs, name\u001b[38;5;241m=\u001b[39m\u001b[38;5;124m\"\u001b[39m\u001b[38;5;124mlinear_classifier\u001b[39m\u001b[38;5;124m\"\u001b[39m)\n",
      "File \u001b[1;32mC:\\ProgramData\\anaconda3\\Lib\\site-packages\\keras\\src\\utils\\traceback_utils.py:122\u001b[0m, in \u001b[0;36mfilter_traceback.<locals>.error_handler\u001b[1;34m(*args, **kwargs)\u001b[0m\n\u001b[0;32m    119\u001b[0m     filtered_tb \u001b[38;5;241m=\u001b[39m _process_traceback_frames(e\u001b[38;5;241m.\u001b[39m__traceback__)\n\u001b[0;32m    120\u001b[0m     \u001b[38;5;66;03m# To get the full stack trace, call:\u001b[39;00m\n\u001b[0;32m    121\u001b[0m     \u001b[38;5;66;03m# `keras.config.disable_traceback_filtering()`\u001b[39;00m\n\u001b[1;32m--> 122\u001b[0m     \u001b[38;5;28;01mraise\u001b[39;00m e\u001b[38;5;241m.\u001b[39mwith_traceback(filtered_tb) \u001b[38;5;28;01mfrom\u001b[39;00m \u001b[38;5;28;01mNone\u001b[39;00m\n\u001b[0;32m    123\u001b[0m \u001b[38;5;28;01mfinally\u001b[39;00m:\n\u001b[0;32m    124\u001b[0m     \u001b[38;5;28;01mdel\u001b[39;00m filtered_tb\n",
      "File \u001b[1;32mC:\\ProgramData\\anaconda3\\Lib\\site-packages\\keras\\src\\layers\\input_spec.py:245\u001b[0m, in \u001b[0;36massert_input_compatibility\u001b[1;34m(input_spec, inputs, layer_name)\u001b[0m\n\u001b[0;32m    243\u001b[0m \u001b[38;5;28;01mif\u001b[39;00m spec_dim \u001b[38;5;129;01mis\u001b[39;00m \u001b[38;5;129;01mnot\u001b[39;00m \u001b[38;5;28;01mNone\u001b[39;00m \u001b[38;5;129;01mand\u001b[39;00m dim \u001b[38;5;129;01mis\u001b[39;00m \u001b[38;5;129;01mnot\u001b[39;00m \u001b[38;5;28;01mNone\u001b[39;00m:\n\u001b[0;32m    244\u001b[0m     \u001b[38;5;28;01mif\u001b[39;00m spec_dim \u001b[38;5;241m!=\u001b[39m dim:\n\u001b[1;32m--> 245\u001b[0m         \u001b[38;5;28;01mraise\u001b[39;00m \u001b[38;5;167;01mValueError\u001b[39;00m(\n\u001b[0;32m    246\u001b[0m             \u001b[38;5;124mf\u001b[39m\u001b[38;5;124m'\u001b[39m\u001b[38;5;124mInput \u001b[39m\u001b[38;5;132;01m{\u001b[39;00minput_index\u001b[38;5;132;01m}\u001b[39;00m\u001b[38;5;124m of layer \u001b[39m\u001b[38;5;124m\"\u001b[39m\u001b[38;5;132;01m{\u001b[39;00mlayer_name\u001b[38;5;132;01m}\u001b[39;00m\u001b[38;5;124m\"\u001b[39m\u001b[38;5;124m is \u001b[39m\u001b[38;5;124m'\u001b[39m\n\u001b[0;32m    247\u001b[0m             \u001b[38;5;124m\"\u001b[39m\u001b[38;5;124mincompatible with the layer: \u001b[39m\u001b[38;5;124m\"\u001b[39m\n\u001b[0;32m    248\u001b[0m             \u001b[38;5;124mf\u001b[39m\u001b[38;5;124m\"\u001b[39m\u001b[38;5;124mexpected shape=\u001b[39m\u001b[38;5;132;01m{\u001b[39;00mspec\u001b[38;5;241m.\u001b[39mshape\u001b[38;5;132;01m}\u001b[39;00m\u001b[38;5;124m, \u001b[39m\u001b[38;5;124m\"\u001b[39m\n\u001b[0;32m    249\u001b[0m             \u001b[38;5;124mf\u001b[39m\u001b[38;5;124m\"\u001b[39m\u001b[38;5;124mfound shape=\u001b[39m\u001b[38;5;132;01m{\u001b[39;00mshape\u001b[38;5;132;01m}\u001b[39;00m\u001b[38;5;124m\"\u001b[39m\n\u001b[0;32m    250\u001b[0m         )\n",
      "\u001b[1;31mValueError\u001b[0m: Input 0 of layer \"encoder\" is incompatible with the layer: expected shape=(None, 32, 32, 3), found shape=(None, 28, 28, 3)"
     ]
    }
   ],
   "source": [
    "# 线性分类头微调\n",
    "\n",
    "# 冻结编码器\n",
    "encoder.trainable = False\n",
    "\n",
    "# 构建线性分类器\n",
    "inputs = Input(shape=(28, 28, 3))\n",
    "features = encoder(inputs)\n",
    "outputs = Dense(1, activation=\"sigmoid\")(features)\n",
    "classifier = Model(inputs, outputs, name=\"linear_classifier\")\n",
    "\n",
    "# 编译分类器\n",
    "classifier.compile(optimizer=\"adam\", loss=\"binary_crossentropy\", metrics=[\"accuracy\"])\n",
    "\n",
    "# 微调分类器\n",
    "classifier.fit(x_train, y_train, validation_data=(x_test, y_test), batch_size=32, epochs=5)\n",
    "\n",
    "# 测试分类性能\n",
    "y_pred = (classifier.predict(x_test) > 0.5).astype(\"int\")\n",
    "print(f\"Test Accuracy: {accuracy_score(y_test, y_pred):.2f}\")"
   ]
  },
  {
   "cell_type": "code",
   "execution_count": null,
   "id": "d135b3bf-b48f-4fde-97ec-babac8481032",
   "metadata": {},
   "outputs": [],
   "source": []
  }
 ],
 "metadata": {
  "kernelspec": {
   "display_name": "Python 3 (ipykernel)",
   "language": "python",
   "name": "python3"
  },
  "language_info": {
   "codemirror_mode": {
    "name": "ipython",
    "version": 3
   },
   "file_extension": ".py",
   "mimetype": "text/x-python",
   "name": "python",
   "nbconvert_exporter": "python",
   "pygments_lexer": "ipython3",
   "version": "3.12.7"
  }
 },
 "nbformat": 4,
 "nbformat_minor": 5
}
